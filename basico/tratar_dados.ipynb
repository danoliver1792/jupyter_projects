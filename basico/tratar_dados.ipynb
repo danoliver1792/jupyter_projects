{
  "nbformat": 4,
  "nbformat_minor": 0,
  "metadata": {
    "colab": {
      "provenance": [],
      "collapsed_sections": []
    },
    "kernelspec": {
      "name": "python3",
      "display_name": "Python 3"
    },
    "language_info": {
      "name": "python"
    }
  },
  "cells": [
    {
      "cell_type": "markdown",
      "source": [
        "Auxílio para limpeza de dados por CSV"
      ],
      "metadata": {
        "id": "WtXeuV0NBdad"
      }
    },
    {
      "cell_type": "code",
      "execution_count": null,
      "metadata": {
        "id": "OBkincIv6zy5"
      },
      "outputs": [],
      "source": [
        "import pandas as pd"
      ]
    },
    {
      "cell_type": "code",
      "source": [
        "arquivo = pd.read_csv('arquivo.csv', sep=',')\n",
        "arquivo"
      ],
      "metadata": {
        "id": "7hjij7lZ66MF"
      },
      "execution_count": null,
      "outputs": []
    },
    {
      "cell_type": "code",
      "source": [
        "arquivo.columns.values"
      ],
      "metadata": {
        "id": "1pQH6M_l6_b6"
      },
      "execution_count": null,
      "outputs": []
    },
    {
      "cell_type": "code",
      "source": [
        "arquivoTratado = arquivo.filter(items=['column1', 'column2'])\n",
        "arquivoTratado"
      ],
      "metadata": {
        "id": "47kmr1TT7CTU"
      },
      "execution_count": null,
      "outputs": []
    },
    {
      "cell_type": "code",
      "source": [
        "arquivoLimpo.to_csv('novoarquivo.csv')"
      ],
      "metadata": {
        "id": "k4iCL048BYCY"
      },
      "execution_count": null,
      "outputs": []
    }
  ]
}