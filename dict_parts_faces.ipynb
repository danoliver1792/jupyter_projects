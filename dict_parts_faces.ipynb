{
  "nbformat": 4,
  "nbformat_minor": 0,
  "metadata": {
    "colab": {
      "provenance": [],
      "authorship_tag": "ABX9TyN/KiIHqXsoWs+sEzBt7VVr"
    },
    "kernelspec": {
      "name": "python3",
      "display_name": "Python 3"
    },
    "language_info": {
      "name": "python"
    }
  },
  "cells": [
    {
      "cell_type": "code",
      "source": [
        "from sklearn import datasets\n",
        "faces = datasets.fetch_olivetti_faces()"
      ],
      "metadata": {
        "colab": {
          "base_uri": "https://localhost:8080/"
        },
        "id": "n_DWjq6DUAcX",
        "outputId": "4a38812a-eb74-4421-968b-c16beb115108"
      },
      "execution_count": 3,
      "outputs": [
        {
          "output_type": "stream",
          "name": "stdout",
          "text": [
            "downloading Olivetti faces from https://ndownloader.figshare.com/files/5976027 to /root/scikit_learn_data\n"
          ]
        }
      ]
    },
    {
      "cell_type": "code",
      "execution_count": 5,
      "metadata": {
        "id": "0YQe2dk9TO5U"
      },
      "outputs": [],
      "source": [
        "import time\n",
        "import numpy as np\n",
        "from sklearn.cluster import MiniBatchKMeans\n",
        "from sklearn.feature_extraction.image import extract_patches_2d"
      ]
    },
    {
      "cell_type": "code",
      "source": [
        "print('Learning the dictionary')\n",
        "rng = np.random.RandomState(0)\n",
        "kmeans = MiniBatchKMeans(n_clusters=81, random_state=rng, verbose=True, n_init=3)\n",
        "patch_size = (20, 20)\n",
        "buffer = []\n",
        "t0 = time.time()"
      ],
      "metadata": {
        "colab": {
          "base_uri": "https://localhost:8080/"
        },
        "id": "RcgMMxMuT4MB",
        "outputId": "9f2c5037-692b-456e-de45-a98637cb66b1"
      },
      "execution_count": 9,
      "outputs": [
        {
          "output_type": "stream",
          "name": "stdout",
          "text": [
            "Learning the dictionary\n"
          ]
        }
      ]
    },
    {
      "cell_type": "code",
      "source": [
        "# percorrer todo conjunto de dados seis vezes\n",
        "index = 0\n",
        "for _ in range(6):\n",
        "  for img in faces.images:\n",
        "    data = extract_patches_2d(img, patch_size, max_patches=50, random_state=rng)\n",
        "    data = np.reshape(data, (len(data), -1))\n",
        "    buffer.append(data)\n",
        "    index += 1\n",
        "    if index % 10 == 0:\n",
        "      data = np.concatenate(buffer, axis=0)\n",
        "      data -= np.mean(data, axis=0)\n",
        "      data /= np.std(data, axis=0)\n",
        "      kmeans.partial_fit(data)\n",
        "      buffer = []\n",
        "    if index % 100 == 0:\n",
        "      print('Partial fit of %4i out of %i' % (index, 6 * len(faces.images)))"
      ],
      "metadata": {
        "colab": {
          "base_uri": "https://localhost:8080/"
        },
        "id": "dSNkF7FaVCS_",
        "outputId": "60b09248-7d27-4d6b-be05-2ca3105757c9"
      },
      "execution_count": 10,
      "outputs": [
        {
          "output_type": "stream",
          "name": "stdout",
          "text": [
            "[MiniBatchKMeans] Reassigning 6 cluster centers.\n",
            "[MiniBatchKMeans] Reassigning 3 cluster centers.\n",
            "Partial fit of  100 out of 2400\n",
            "[MiniBatchKMeans] Reassigning 3 cluster centers.\n",
            "[MiniBatchKMeans] Reassigning 2 cluster centers.\n",
            "Partial fit of  200 out of 2400\n",
            "[MiniBatchKMeans] Reassigning 1 cluster centers.\n",
            "[MiniBatchKMeans] Reassigning 1 cluster centers.\n",
            "Partial fit of  300 out of 2400\n",
            "Partial fit of  400 out of 2400\n",
            "Partial fit of  500 out of 2400\n",
            "Partial fit of  600 out of 2400\n",
            "Partial fit of  700 out of 2400\n",
            "Partial fit of  800 out of 2400\n",
            "Partial fit of  900 out of 2400\n",
            "Partial fit of 1000 out of 2400\n",
            "Partial fit of 1100 out of 2400\n",
            "Partial fit of 1200 out of 2400\n",
            "Partial fit of 1300 out of 2400\n",
            "Partial fit of 1400 out of 2400\n",
            "Partial fit of 1500 out of 2400\n",
            "Partial fit of 1600 out of 2400\n",
            "Partial fit of 1700 out of 2400\n",
            "Partial fit of 1800 out of 2400\n",
            "Partial fit of 1900 out of 2400\n",
            "Partial fit of 2000 out of 2400\n",
            "Partial fit of 2100 out of 2400\n",
            "Partial fit of 2200 out of 2400\n",
            "Partial fit of 2300 out of 2400\n",
            "Partial fit of 2400 out of 2400\n"
          ]
        }
      ]
    }
  ]
}